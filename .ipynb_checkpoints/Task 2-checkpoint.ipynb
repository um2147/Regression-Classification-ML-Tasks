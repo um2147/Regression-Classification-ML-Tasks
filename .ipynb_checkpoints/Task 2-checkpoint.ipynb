{
 "cells": [
  {
   "cell_type": "code",
   "execution_count": 27,
   "metadata": {},
   "outputs": [],
   "source": [
    "import pandas as pd\n",
    "telco_data = pd.read_csv('WA_Fn-UseC_-Telco-Customer-Churn.csv')"
   ]
  },
  {
   "cell_type": "code",
   "execution_count": 28,
   "metadata": {},
   "outputs": [],
   "source": [
    "import warnings\n",
    "warnings.filterwarnings(\"ignore\")\n",
    "import numpy as np"
   ]
  },
  {
   "cell_type": "code",
   "execution_count": 30,
   "metadata": {},
   "outputs": [
    {
     "data": {
      "text/plain": [
       "Index(['customerID', 'gender', 'SeniorCitizen', 'Partner', 'Dependents',\n",
       "       'tenure', 'PhoneService', 'MultipleLines', 'InternetService',\n",
       "       'OnlineSecurity', 'OnlineBackup', 'DeviceProtection', 'TechSupport',\n",
       "       'StreamingTV', 'StreamingMovies', 'Contract', 'PaperlessBilling',\n",
       "       'PaymentMethod', 'MonthlyCharges', 'TotalCharges', 'Churn'],\n",
       "      dtype='object')"
      ]
     },
     "execution_count": 30,
     "metadata": {},
     "output_type": "execute_result"
    }
   ],
   "source": [
    "telco_data.columns"
   ]
  },
  {
   "cell_type": "code",
   "execution_count": 31,
   "metadata": {},
   "outputs": [
    {
     "data": {
      "text/plain": [
       "(7043, 21)"
      ]
     },
     "execution_count": 31,
     "metadata": {},
     "output_type": "execute_result"
    }
   ],
   "source": [
    "telco_data.shape"
   ]
  },
  {
   "cell_type": "code",
   "execution_count": 32,
   "metadata": {},
   "outputs": [
    {
     "data": {
      "text/html": [
       "<div>\n",
       "<style scoped>\n",
       "    .dataframe tbody tr th:only-of-type {\n",
       "        vertical-align: middle;\n",
       "    }\n",
       "\n",
       "    .dataframe tbody tr th {\n",
       "        vertical-align: top;\n",
       "    }\n",
       "\n",
       "    .dataframe thead th {\n",
       "        text-align: right;\n",
       "    }\n",
       "</style>\n",
       "<table border=\"1\" class=\"dataframe\">\n",
       "  <thead>\n",
       "    <tr style=\"text-align: right;\">\n",
       "      <th></th>\n",
       "      <th>customerID</th>\n",
       "      <th>gender</th>\n",
       "      <th>SeniorCitizen</th>\n",
       "      <th>Partner</th>\n",
       "      <th>Dependents</th>\n",
       "      <th>tenure</th>\n",
       "      <th>PhoneService</th>\n",
       "      <th>MultipleLines</th>\n",
       "      <th>InternetService</th>\n",
       "      <th>OnlineSecurity</th>\n",
       "      <th>...</th>\n",
       "      <th>DeviceProtection</th>\n",
       "      <th>TechSupport</th>\n",
       "      <th>StreamingTV</th>\n",
       "      <th>StreamingMovies</th>\n",
       "      <th>Contract</th>\n",
       "      <th>PaperlessBilling</th>\n",
       "      <th>PaymentMethod</th>\n",
       "      <th>MonthlyCharges</th>\n",
       "      <th>TotalCharges</th>\n",
       "      <th>Churn</th>\n",
       "    </tr>\n",
       "  </thead>\n",
       "  <tbody>\n",
       "    <tr>\n",
       "      <th>0</th>\n",
       "      <td>7590-VHVEG</td>\n",
       "      <td>Female</td>\n",
       "      <td>0</td>\n",
       "      <td>Yes</td>\n",
       "      <td>No</td>\n",
       "      <td>1</td>\n",
       "      <td>No</td>\n",
       "      <td>No phone service</td>\n",
       "      <td>DSL</td>\n",
       "      <td>No</td>\n",
       "      <td>...</td>\n",
       "      <td>No</td>\n",
       "      <td>No</td>\n",
       "      <td>No</td>\n",
       "      <td>No</td>\n",
       "      <td>Month-to-month</td>\n",
       "      <td>Yes</td>\n",
       "      <td>Electronic check</td>\n",
       "      <td>29.85</td>\n",
       "      <td>29.85</td>\n",
       "      <td>No</td>\n",
       "    </tr>\n",
       "    <tr>\n",
       "      <th>1</th>\n",
       "      <td>5575-GNVDE</td>\n",
       "      <td>Male</td>\n",
       "      <td>0</td>\n",
       "      <td>No</td>\n",
       "      <td>No</td>\n",
       "      <td>34</td>\n",
       "      <td>Yes</td>\n",
       "      <td>No</td>\n",
       "      <td>DSL</td>\n",
       "      <td>Yes</td>\n",
       "      <td>...</td>\n",
       "      <td>Yes</td>\n",
       "      <td>No</td>\n",
       "      <td>No</td>\n",
       "      <td>No</td>\n",
       "      <td>One year</td>\n",
       "      <td>No</td>\n",
       "      <td>Mailed check</td>\n",
       "      <td>56.95</td>\n",
       "      <td>1889.5</td>\n",
       "      <td>No</td>\n",
       "    </tr>\n",
       "    <tr>\n",
       "      <th>2</th>\n",
       "      <td>3668-QPYBK</td>\n",
       "      <td>Male</td>\n",
       "      <td>0</td>\n",
       "      <td>No</td>\n",
       "      <td>No</td>\n",
       "      <td>2</td>\n",
       "      <td>Yes</td>\n",
       "      <td>No</td>\n",
       "      <td>DSL</td>\n",
       "      <td>Yes</td>\n",
       "      <td>...</td>\n",
       "      <td>No</td>\n",
       "      <td>No</td>\n",
       "      <td>No</td>\n",
       "      <td>No</td>\n",
       "      <td>Month-to-month</td>\n",
       "      <td>Yes</td>\n",
       "      <td>Mailed check</td>\n",
       "      <td>53.85</td>\n",
       "      <td>108.15</td>\n",
       "      <td>Yes</td>\n",
       "    </tr>\n",
       "    <tr>\n",
       "      <th>3</th>\n",
       "      <td>7795-CFOCW</td>\n",
       "      <td>Male</td>\n",
       "      <td>0</td>\n",
       "      <td>No</td>\n",
       "      <td>No</td>\n",
       "      <td>45</td>\n",
       "      <td>No</td>\n",
       "      <td>No phone service</td>\n",
       "      <td>DSL</td>\n",
       "      <td>Yes</td>\n",
       "      <td>...</td>\n",
       "      <td>Yes</td>\n",
       "      <td>Yes</td>\n",
       "      <td>No</td>\n",
       "      <td>No</td>\n",
       "      <td>One year</td>\n",
       "      <td>No</td>\n",
       "      <td>Bank transfer (automatic)</td>\n",
       "      <td>42.30</td>\n",
       "      <td>1840.75</td>\n",
       "      <td>No</td>\n",
       "    </tr>\n",
       "    <tr>\n",
       "      <th>4</th>\n",
       "      <td>9237-HQITU</td>\n",
       "      <td>Female</td>\n",
       "      <td>0</td>\n",
       "      <td>No</td>\n",
       "      <td>No</td>\n",
       "      <td>2</td>\n",
       "      <td>Yes</td>\n",
       "      <td>No</td>\n",
       "      <td>Fiber optic</td>\n",
       "      <td>No</td>\n",
       "      <td>...</td>\n",
       "      <td>No</td>\n",
       "      <td>No</td>\n",
       "      <td>No</td>\n",
       "      <td>No</td>\n",
       "      <td>Month-to-month</td>\n",
       "      <td>Yes</td>\n",
       "      <td>Electronic check</td>\n",
       "      <td>70.70</td>\n",
       "      <td>151.65</td>\n",
       "      <td>Yes</td>\n",
       "    </tr>\n",
       "  </tbody>\n",
       "</table>\n",
       "<p>5 rows × 21 columns</p>\n",
       "</div>"
      ],
      "text/plain": [
       "   customerID  gender  SeniorCitizen Partner Dependents  tenure PhoneService  \\\n",
       "0  7590-VHVEG  Female              0     Yes         No       1           No   \n",
       "1  5575-GNVDE    Male              0      No         No      34          Yes   \n",
       "2  3668-QPYBK    Male              0      No         No       2          Yes   \n",
       "3  7795-CFOCW    Male              0      No         No      45           No   \n",
       "4  9237-HQITU  Female              0      No         No       2          Yes   \n",
       "\n",
       "      MultipleLines InternetService OnlineSecurity  ...  DeviceProtection  \\\n",
       "0  No phone service             DSL             No  ...                No   \n",
       "1                No             DSL            Yes  ...               Yes   \n",
       "2                No             DSL            Yes  ...                No   \n",
       "3  No phone service             DSL            Yes  ...               Yes   \n",
       "4                No     Fiber optic             No  ...                No   \n",
       "\n",
       "  TechSupport StreamingTV StreamingMovies        Contract PaperlessBilling  \\\n",
       "0          No          No              No  Month-to-month              Yes   \n",
       "1          No          No              No        One year               No   \n",
       "2          No          No              No  Month-to-month              Yes   \n",
       "3         Yes          No              No        One year               No   \n",
       "4          No          No              No  Month-to-month              Yes   \n",
       "\n",
       "               PaymentMethod MonthlyCharges  TotalCharges Churn  \n",
       "0           Electronic check          29.85         29.85    No  \n",
       "1               Mailed check          56.95        1889.5    No  \n",
       "2               Mailed check          53.85        108.15   Yes  \n",
       "3  Bank transfer (automatic)          42.30       1840.75    No  \n",
       "4           Electronic check          70.70        151.65   Yes  \n",
       "\n",
       "[5 rows x 21 columns]"
      ]
     },
     "execution_count": 32,
     "metadata": {},
     "output_type": "execute_result"
    }
   ],
   "source": [
    "telco_data.head()"
   ]
  },
  {
   "cell_type": "code",
   "execution_count": 33,
   "metadata": {
    "scrolled": false
   },
   "outputs": [],
   "source": [
    "telco_data.dtypes\n",
    "telco_data.drop(columns= 'customerID', inplace = True)"
   ]
  },
  {
   "cell_type": "code",
   "execution_count": 34,
   "metadata": {},
   "outputs": [],
   "source": [
    "telco_data['TotalCharges'] = pd.to_numeric(telco_data['TotalCharges'], errors = 'coerce')\n",
    "#converting it to continuous as dtype was object"
   ]
  },
  {
   "cell_type": "code",
   "execution_count": 35,
   "metadata": {},
   "outputs": [],
   "source": [
    "telco_continuous = telco_data.select_dtypes (include = ['int64','float64'])\n",
    "telco_continuous.head()\n",
    "telco_continuous.drop (columns = ['SeniorCitizen'],inplace = True)\n"
   ]
  },
  {
   "cell_type": "code",
   "execution_count": 36,
   "metadata": {},
   "outputs": [],
   "source": [
    "cont_var = list (telco_continuous)"
   ]
  },
  {
   "cell_type": "code",
   "execution_count": 37,
   "metadata": {},
   "outputs": [
    {
     "data": {
      "text/plain": [
       "['tenure', 'MonthlyCharges', 'TotalCharges']"
      ]
     },
     "execution_count": 37,
     "metadata": {},
     "output_type": "execute_result"
    }
   ],
   "source": [
    "cont_var"
   ]
  },
  {
   "cell_type": "code",
   "execution_count": 38,
   "metadata": {},
   "outputs": [
    {
     "data": {
      "text/html": [
       "<div>\n",
       "<style scoped>\n",
       "    .dataframe tbody tr th:only-of-type {\n",
       "        vertical-align: middle;\n",
       "    }\n",
       "\n",
       "    .dataframe tbody tr th {\n",
       "        vertical-align: top;\n",
       "    }\n",
       "\n",
       "    .dataframe thead th {\n",
       "        text-align: right;\n",
       "    }\n",
       "</style>\n",
       "<table border=\"1\" class=\"dataframe\">\n",
       "  <thead>\n",
       "    <tr style=\"text-align: right;\">\n",
       "      <th></th>\n",
       "      <th>tenure</th>\n",
       "      <th>MonthlyCharges</th>\n",
       "      <th>TotalCharges</th>\n",
       "    </tr>\n",
       "  </thead>\n",
       "  <tbody>\n",
       "    <tr>\n",
       "      <th>0</th>\n",
       "      <td>1</td>\n",
       "      <td>29.85</td>\n",
       "      <td>29.85</td>\n",
       "    </tr>\n",
       "    <tr>\n",
       "      <th>1</th>\n",
       "      <td>34</td>\n",
       "      <td>56.95</td>\n",
       "      <td>1889.50</td>\n",
       "    </tr>\n",
       "    <tr>\n",
       "      <th>2</th>\n",
       "      <td>2</td>\n",
       "      <td>53.85</td>\n",
       "      <td>108.15</td>\n",
       "    </tr>\n",
       "    <tr>\n",
       "      <th>3</th>\n",
       "      <td>45</td>\n",
       "      <td>42.30</td>\n",
       "      <td>1840.75</td>\n",
       "    </tr>\n",
       "    <tr>\n",
       "      <th>4</th>\n",
       "      <td>2</td>\n",
       "      <td>70.70</td>\n",
       "      <td>151.65</td>\n",
       "    </tr>\n",
       "    <tr>\n",
       "      <th>5</th>\n",
       "      <td>8</td>\n",
       "      <td>99.65</td>\n",
       "      <td>820.50</td>\n",
       "    </tr>\n",
       "    <tr>\n",
       "      <th>6</th>\n",
       "      <td>22</td>\n",
       "      <td>89.10</td>\n",
       "      <td>1949.40</td>\n",
       "    </tr>\n",
       "    <tr>\n",
       "      <th>7</th>\n",
       "      <td>10</td>\n",
       "      <td>29.75</td>\n",
       "      <td>301.90</td>\n",
       "    </tr>\n",
       "    <tr>\n",
       "      <th>8</th>\n",
       "      <td>28</td>\n",
       "      <td>104.80</td>\n",
       "      <td>3046.05</td>\n",
       "    </tr>\n",
       "    <tr>\n",
       "      <th>9</th>\n",
       "      <td>62</td>\n",
       "      <td>56.15</td>\n",
       "      <td>3487.95</td>\n",
       "    </tr>\n",
       "    <tr>\n",
       "      <th>10</th>\n",
       "      <td>13</td>\n",
       "      <td>49.95</td>\n",
       "      <td>587.45</td>\n",
       "    </tr>\n",
       "    <tr>\n",
       "      <th>11</th>\n",
       "      <td>16</td>\n",
       "      <td>18.95</td>\n",
       "      <td>326.80</td>\n",
       "    </tr>\n",
       "    <tr>\n",
       "      <th>12</th>\n",
       "      <td>58</td>\n",
       "      <td>100.35</td>\n",
       "      <td>5681.10</td>\n",
       "    </tr>\n",
       "    <tr>\n",
       "      <th>13</th>\n",
       "      <td>49</td>\n",
       "      <td>103.70</td>\n",
       "      <td>5036.30</td>\n",
       "    </tr>\n",
       "    <tr>\n",
       "      <th>14</th>\n",
       "      <td>25</td>\n",
       "      <td>105.50</td>\n",
       "      <td>2686.05</td>\n",
       "    </tr>\n",
       "    <tr>\n",
       "      <th>15</th>\n",
       "      <td>69</td>\n",
       "      <td>113.25</td>\n",
       "      <td>7895.15</td>\n",
       "    </tr>\n",
       "    <tr>\n",
       "      <th>16</th>\n",
       "      <td>52</td>\n",
       "      <td>20.65</td>\n",
       "      <td>1022.95</td>\n",
       "    </tr>\n",
       "    <tr>\n",
       "      <th>17</th>\n",
       "      <td>71</td>\n",
       "      <td>106.70</td>\n",
       "      <td>7382.25</td>\n",
       "    </tr>\n",
       "    <tr>\n",
       "      <th>18</th>\n",
       "      <td>10</td>\n",
       "      <td>55.20</td>\n",
       "      <td>528.35</td>\n",
       "    </tr>\n",
       "    <tr>\n",
       "      <th>19</th>\n",
       "      <td>21</td>\n",
       "      <td>90.05</td>\n",
       "      <td>1862.90</td>\n",
       "    </tr>\n",
       "    <tr>\n",
       "      <th>20</th>\n",
       "      <td>1</td>\n",
       "      <td>39.65</td>\n",
       "      <td>39.65</td>\n",
       "    </tr>\n",
       "    <tr>\n",
       "      <th>21</th>\n",
       "      <td>12</td>\n",
       "      <td>19.80</td>\n",
       "      <td>202.25</td>\n",
       "    </tr>\n",
       "    <tr>\n",
       "      <th>22</th>\n",
       "      <td>1</td>\n",
       "      <td>20.15</td>\n",
       "      <td>20.15</td>\n",
       "    </tr>\n",
       "    <tr>\n",
       "      <th>23</th>\n",
       "      <td>58</td>\n",
       "      <td>59.90</td>\n",
       "      <td>3505.10</td>\n",
       "    </tr>\n",
       "    <tr>\n",
       "      <th>24</th>\n",
       "      <td>49</td>\n",
       "      <td>59.60</td>\n",
       "      <td>2970.30</td>\n",
       "    </tr>\n",
       "    <tr>\n",
       "      <th>25</th>\n",
       "      <td>30</td>\n",
       "      <td>55.30</td>\n",
       "      <td>1530.60</td>\n",
       "    </tr>\n",
       "    <tr>\n",
       "      <th>26</th>\n",
       "      <td>47</td>\n",
       "      <td>99.35</td>\n",
       "      <td>4749.15</td>\n",
       "    </tr>\n",
       "    <tr>\n",
       "      <th>27</th>\n",
       "      <td>1</td>\n",
       "      <td>30.20</td>\n",
       "      <td>30.20</td>\n",
       "    </tr>\n",
       "    <tr>\n",
       "      <th>28</th>\n",
       "      <td>72</td>\n",
       "      <td>90.25</td>\n",
       "      <td>6369.45</td>\n",
       "    </tr>\n",
       "    <tr>\n",
       "      <th>29</th>\n",
       "      <td>17</td>\n",
       "      <td>64.70</td>\n",
       "      <td>1093.10</td>\n",
       "    </tr>\n",
       "    <tr>\n",
       "      <th>...</th>\n",
       "      <td>...</td>\n",
       "      <td>...</td>\n",
       "      <td>...</td>\n",
       "    </tr>\n",
       "    <tr>\n",
       "      <th>7013</th>\n",
       "      <td>40</td>\n",
       "      <td>93.40</td>\n",
       "      <td>3756.40</td>\n",
       "    </tr>\n",
       "    <tr>\n",
       "      <th>7014</th>\n",
       "      <td>41</td>\n",
       "      <td>89.20</td>\n",
       "      <td>3645.75</td>\n",
       "    </tr>\n",
       "    <tr>\n",
       "      <th>7015</th>\n",
       "      <td>34</td>\n",
       "      <td>85.20</td>\n",
       "      <td>2874.45</td>\n",
       "    </tr>\n",
       "    <tr>\n",
       "      <th>7016</th>\n",
       "      <td>1</td>\n",
       "      <td>49.95</td>\n",
       "      <td>49.95</td>\n",
       "    </tr>\n",
       "    <tr>\n",
       "      <th>7017</th>\n",
       "      <td>51</td>\n",
       "      <td>20.65</td>\n",
       "      <td>1020.75</td>\n",
       "    </tr>\n",
       "    <tr>\n",
       "      <th>7018</th>\n",
       "      <td>1</td>\n",
       "      <td>70.65</td>\n",
       "      <td>70.65</td>\n",
       "    </tr>\n",
       "    <tr>\n",
       "      <th>7019</th>\n",
       "      <td>39</td>\n",
       "      <td>20.15</td>\n",
       "      <td>826.00</td>\n",
       "    </tr>\n",
       "    <tr>\n",
       "      <th>7020</th>\n",
       "      <td>12</td>\n",
       "      <td>19.20</td>\n",
       "      <td>239.00</td>\n",
       "    </tr>\n",
       "    <tr>\n",
       "      <th>7021</th>\n",
       "      <td>12</td>\n",
       "      <td>59.80</td>\n",
       "      <td>727.80</td>\n",
       "    </tr>\n",
       "    <tr>\n",
       "      <th>7022</th>\n",
       "      <td>72</td>\n",
       "      <td>104.95</td>\n",
       "      <td>7544.30</td>\n",
       "    </tr>\n",
       "    <tr>\n",
       "      <th>7023</th>\n",
       "      <td>63</td>\n",
       "      <td>103.50</td>\n",
       "      <td>6479.40</td>\n",
       "    </tr>\n",
       "    <tr>\n",
       "      <th>7024</th>\n",
       "      <td>44</td>\n",
       "      <td>84.80</td>\n",
       "      <td>3626.35</td>\n",
       "    </tr>\n",
       "    <tr>\n",
       "      <th>7025</th>\n",
       "      <td>18</td>\n",
       "      <td>95.05</td>\n",
       "      <td>1679.40</td>\n",
       "    </tr>\n",
       "    <tr>\n",
       "      <th>7026</th>\n",
       "      <td>9</td>\n",
       "      <td>44.20</td>\n",
       "      <td>403.35</td>\n",
       "    </tr>\n",
       "    <tr>\n",
       "      <th>7027</th>\n",
       "      <td>13</td>\n",
       "      <td>73.35</td>\n",
       "      <td>931.55</td>\n",
       "    </tr>\n",
       "    <tr>\n",
       "      <th>7028</th>\n",
       "      <td>68</td>\n",
       "      <td>64.10</td>\n",
       "      <td>4326.25</td>\n",
       "    </tr>\n",
       "    <tr>\n",
       "      <th>7029</th>\n",
       "      <td>6</td>\n",
       "      <td>44.40</td>\n",
       "      <td>263.05</td>\n",
       "    </tr>\n",
       "    <tr>\n",
       "      <th>7030</th>\n",
       "      <td>2</td>\n",
       "      <td>20.05</td>\n",
       "      <td>39.25</td>\n",
       "    </tr>\n",
       "    <tr>\n",
       "      <th>7031</th>\n",
       "      <td>55</td>\n",
       "      <td>60.00</td>\n",
       "      <td>3316.10</td>\n",
       "    </tr>\n",
       "    <tr>\n",
       "      <th>7032</th>\n",
       "      <td>1</td>\n",
       "      <td>75.75</td>\n",
       "      <td>75.75</td>\n",
       "    </tr>\n",
       "    <tr>\n",
       "      <th>7033</th>\n",
       "      <td>38</td>\n",
       "      <td>69.50</td>\n",
       "      <td>2625.25</td>\n",
       "    </tr>\n",
       "    <tr>\n",
       "      <th>7034</th>\n",
       "      <td>67</td>\n",
       "      <td>102.95</td>\n",
       "      <td>6886.25</td>\n",
       "    </tr>\n",
       "    <tr>\n",
       "      <th>7035</th>\n",
       "      <td>19</td>\n",
       "      <td>78.70</td>\n",
       "      <td>1495.10</td>\n",
       "    </tr>\n",
       "    <tr>\n",
       "      <th>7036</th>\n",
       "      <td>12</td>\n",
       "      <td>60.65</td>\n",
       "      <td>743.30</td>\n",
       "    </tr>\n",
       "    <tr>\n",
       "      <th>7037</th>\n",
       "      <td>72</td>\n",
       "      <td>21.15</td>\n",
       "      <td>1419.40</td>\n",
       "    </tr>\n",
       "    <tr>\n",
       "      <th>7038</th>\n",
       "      <td>24</td>\n",
       "      <td>84.80</td>\n",
       "      <td>1990.50</td>\n",
       "    </tr>\n",
       "    <tr>\n",
       "      <th>7039</th>\n",
       "      <td>72</td>\n",
       "      <td>103.20</td>\n",
       "      <td>7362.90</td>\n",
       "    </tr>\n",
       "    <tr>\n",
       "      <th>7040</th>\n",
       "      <td>11</td>\n",
       "      <td>29.60</td>\n",
       "      <td>346.45</td>\n",
       "    </tr>\n",
       "    <tr>\n",
       "      <th>7041</th>\n",
       "      <td>4</td>\n",
       "      <td>74.40</td>\n",
       "      <td>306.60</td>\n",
       "    </tr>\n",
       "    <tr>\n",
       "      <th>7042</th>\n",
       "      <td>66</td>\n",
       "      <td>105.65</td>\n",
       "      <td>6844.50</td>\n",
       "    </tr>\n",
       "  </tbody>\n",
       "</table>\n",
       "<p>7043 rows × 3 columns</p>\n",
       "</div>"
      ],
      "text/plain": [
       "      tenure  MonthlyCharges  TotalCharges\n",
       "0          1           29.85         29.85\n",
       "1         34           56.95       1889.50\n",
       "2          2           53.85        108.15\n",
       "3         45           42.30       1840.75\n",
       "4          2           70.70        151.65\n",
       "5          8           99.65        820.50\n",
       "6         22           89.10       1949.40\n",
       "7         10           29.75        301.90\n",
       "8         28          104.80       3046.05\n",
       "9         62           56.15       3487.95\n",
       "10        13           49.95        587.45\n",
       "11        16           18.95        326.80\n",
       "12        58          100.35       5681.10\n",
       "13        49          103.70       5036.30\n",
       "14        25          105.50       2686.05\n",
       "15        69          113.25       7895.15\n",
       "16        52           20.65       1022.95\n",
       "17        71          106.70       7382.25\n",
       "18        10           55.20        528.35\n",
       "19        21           90.05       1862.90\n",
       "20         1           39.65         39.65\n",
       "21        12           19.80        202.25\n",
       "22         1           20.15         20.15\n",
       "23        58           59.90       3505.10\n",
       "24        49           59.60       2970.30\n",
       "25        30           55.30       1530.60\n",
       "26        47           99.35       4749.15\n",
       "27         1           30.20         30.20\n",
       "28        72           90.25       6369.45\n",
       "29        17           64.70       1093.10\n",
       "...      ...             ...           ...\n",
       "7013      40           93.40       3756.40\n",
       "7014      41           89.20       3645.75\n",
       "7015      34           85.20       2874.45\n",
       "7016       1           49.95         49.95\n",
       "7017      51           20.65       1020.75\n",
       "7018       1           70.65         70.65\n",
       "7019      39           20.15        826.00\n",
       "7020      12           19.20        239.00\n",
       "7021      12           59.80        727.80\n",
       "7022      72          104.95       7544.30\n",
       "7023      63          103.50       6479.40\n",
       "7024      44           84.80       3626.35\n",
       "7025      18           95.05       1679.40\n",
       "7026       9           44.20        403.35\n",
       "7027      13           73.35        931.55\n",
       "7028      68           64.10       4326.25\n",
       "7029       6           44.40        263.05\n",
       "7030       2           20.05         39.25\n",
       "7031      55           60.00       3316.10\n",
       "7032       1           75.75         75.75\n",
       "7033      38           69.50       2625.25\n",
       "7034      67          102.95       6886.25\n",
       "7035      19           78.70       1495.10\n",
       "7036      12           60.65        743.30\n",
       "7037      72           21.15       1419.40\n",
       "7038      24           84.80       1990.50\n",
       "7039      72          103.20       7362.90\n",
       "7040      11           29.60        346.45\n",
       "7041       4           74.40        306.60\n",
       "7042      66          105.65       6844.50\n",
       "\n",
       "[7043 rows x 3 columns]"
      ]
     },
     "execution_count": 38,
     "metadata": {},
     "output_type": "execute_result"
    }
   ],
   "source": [
    "telco_continuous"
   ]
  },
  {
   "cell_type": "markdown",
   "metadata": {},
   "source": [
    "# 2.1"
   ]
  },
  {
   "cell_type": "code",
   "execution_count": 39,
   "metadata": {},
   "outputs": [
    {
     "data": {
      "text/plain": [
       "Text(0.5, 1.0, 'Target - Churn')"
      ]
     },
     "execution_count": 39,
     "metadata": {},
     "output_type": "execute_result"
    },
    {
     "data": {
      "image/png": "[encoded data removed]",
      "text/plain": [
       "<Figure size 2160x1080 with 4 Axes>"
      ]
     },
     "metadata": {
      "needs_background": "light"
     },
     "output_type": "display_data"
    }
   ],
   "source": [
    "import matplotlib.pyplot as plt\n",
    "fig, ax = plt.subplots(2, 2, figsize=(30, 15))\n",
    "plt.subplots_adjust(wspace=0.40,hspace=0.50)\n",
    "\n",
    "ax[0,0].hist(telco_continuous['tenure'])\n",
    "ax[0,1].hist(telco_continuous['MonthlyCharges'])\n",
    "ax[1,0].hist(telco_continuous['TotalCharges'])\n",
    "\n",
    "telco_data['Churn'].value_counts().plot(kind='bar', ax=ax[1,1])  \n",
    "\n",
    "ax[0,0].set_title('Tenure', fontsize = 20)\n",
    "ax[0,1].set_title('MonthlyCharges', fontsize = 20)\n",
    "ax[1,0].set_title('TotalCharges', fontsize = 20)\n",
    "ax[1,1].set_title('Target - Churn', fontsize = 20)"
   ]
  },
  {
   "cell_type": "markdown",
   "metadata": {},
   "source": [
    "# 2.2"
   ]
  },
  {
   "cell_type": "code",
   "execution_count": 40,
   "metadata": {},
   "outputs": [],
   "source": [
    "cat_var = list(set(telco_data.columns)- set(telco_continuous.columns))"
   ]
  },
  {
   "cell_type": "code",
   "execution_count": 41,
   "metadata": {},
   "outputs": [
    {
     "data": {
      "text/plain": [
       "['StreamingTV',\n",
       " 'TechSupport',\n",
       " 'PaymentMethod',\n",
       " 'PhoneService',\n",
       " 'SeniorCitizen',\n",
       " 'Contract',\n",
       " 'Dependents',\n",
       " 'OnlineBackup',\n",
       " 'Partner',\n",
       " 'MultipleLines',\n",
       " 'InternetService',\n",
       " 'Churn',\n",
       " 'DeviceProtection',\n",
       " 'PaperlessBilling',\n",
       " 'OnlineSecurity',\n",
       " 'StreamingMovies',\n",
       " 'gender']"
      ]
     },
     "execution_count": 41,
     "metadata": {},
     "output_type": "execute_result"
    }
   ],
   "source": [
    "cat_var"
   ]
  },
  {
   "cell_type": "code",
   "execution_count": 42,
   "metadata": {},
   "outputs": [],
   "source": [
    "from sklearn.model_selection import train_test_split\n",
    "cat_var.remove('Churn')\n",
    "X_train, X_test, y_train, y_test = train_test_split (telco_data.loc[:, telco_data.columns != 'Churn'],telco_data['Churn'], random_state = 0)\n",
    "X_train = pd.concat((X_train[cat_var], X_train[cont_var]), axis=1)"
   ]
  },
  {
   "cell_type": "code",
   "execution_count": 43,
   "metadata": {},
   "outputs": [],
   "source": [
    "from sklearn.compose import make_column_transformer\n",
    "from sklearn.compose import ColumnTransformer\n",
    "\n",
    "from sklearn.pipeline import make_pipeline\n",
    "from sklearn.preprocessing import OneHotEncoder\n",
    "from sklearn.impute import SimpleImputer\n",
    "\n",
    "\n",
    "cat_pipe = ColumnTransformer([('imputer', SimpleImputer(strategy = 'median'), cont_var) , ('ohe', OneHotEncoder(handle_unknown='ignore'), cat_var)], remainder='passthrough')\n"
   ]
  },
  {
   "cell_type": "code",
   "execution_count": 44,
   "metadata": {},
   "outputs": [
    {
     "name": "stdout",
     "output_type": "stream",
     "text": [
      "Logistic Regression:  0.8023444758109355\n",
      "Linear SVC:  0.7317723821036433\n",
      "N Centroid:  0.5238651567706784\n"
     ]
    }
   ],
   "source": [
    "from sklearn.linear_model import LogisticRegression\n",
    "from sklearn.model_selection import cross_val_score\n",
    "\n",
    "logreg_model = make_pipeline(cat_pipe, LogisticRegression())\n",
    "logreg_scores = cross_val_score(logreg_model, X_train, y_train, cv=10)\n",
    "print('Logistic Regression: ', np.mean(logreg_scores))\n",
    "\n",
    "\n",
    "from sklearn.svm import LinearSVC\n",
    "linearSVC_model = make_pipeline(cat_pipe, LinearSVC())\n",
    "linearSVC_scores = cross_val_score (linearSVC_model,X_train, y_train, cv=10)\n",
    "print('Linear SVC: ', np.mean(linearSVC_scores))\n",
    "\n",
    "\n",
    "from sklearn.neighbors.nearest_centroid import NearestCentroid\n",
    "ncentroid_model = make_pipeline (cat_pipe,NearestCentroid())\n",
    "ncentroid_scores = cross_val_score (ncentroid_model, X_train, y_train, cv=10)\n",
    "print('N Centroid: ', np.mean(ncentroid_scores))\n"
   ]
  },
  {
   "cell_type": "markdown",
   "metadata": {},
   "source": [
    "The performance of Logistic Regression is better than Linear SVC and N Centroid"
   ]
  },
  {
   "cell_type": "code",
   "execution_count": 45,
   "metadata": {},
   "outputs": [],
   "source": [
    "from sklearn.preprocessing import StandardScaler\n",
    "scaler_pipe = ColumnTransformer([('scaling', StandardScaler(), cont_var)], remainder='passthrough')\n",
    "#cat_con_pipe = ColumnTransformer([('somename', StandardScaler(), ['tenure', 'MonthlyCharges']),\n",
    "                                 #('ohe', OneHotEncoder(handle_unknown='ignore'), cat_var)], remainder = 'passthrough')\n",
    "cat_con_pipe = ColumnTransformer([('imputer', SimpleImputer(strategy = 'median'), np.arange (0,len(cont_var))) , ('ohe', OneHotEncoder(handle_unknown='ignore'),  np.arange(len(cont_var),len(X_train.columns)))], remainder='passthrough')"
   ]
  },
  {
   "cell_type": "code",
   "execution_count": 46,
   "metadata": {},
   "outputs": [
    {
     "name": "stdout",
     "output_type": "stream",
     "text": [
      "Logistic Regression with Standard Scaling:  0.8025342291316185\n",
      "Linear SVC with Standard Scaling:  0.8025370987470541\n",
      "N Centroid with Standard Scaling:  0.7391182389170072\n"
     ]
    }
   ],
   "source": [
    "logreg1_model = make_pipeline(scaler_pipe, cat_con_pipe, LogisticRegression())\n",
    "logreg1_scores = cross_val_score(logreg1_model, X_train, y_train, cv=10)\n",
    "print('Logistic Regression with Standard Scaling: ', np.mean(logreg1_scores))\n",
    "\n",
    "linearSVC1_model = make_pipeline(scaler_pipe, cat_con_pipe,LinearSVC())\n",
    "linearSVC1_scores = cross_val_score (linearSVC1_model,X_train, y_train, cv=10)\n",
    "print('Linear SVC with Standard Scaling: ', np.mean(linearSVC1_scores))\n",
    "\n",
    "ncentroid1_model = make_pipeline (scaler_pipe, cat_con_pipe, NearestCentroid())\n",
    "ncentroid1_scores = cross_val_score (ncentroid1_model, X_train, y_train, cv=10)\n",
    "print('N Centroid with Standard Scaling: ', np.mean(ncentroid1_scores))\n"
   ]
  },
  {
   "cell_type": "markdown",
   "metadata": {},
   "source": [
    "We see significant improvement in Linear SVC and N Centroid on Standard Scaling"
   ]
  },
  {
   "cell_type": "markdown",
   "metadata": {},
   "source": [
    "# 2.3"
   ]
  },
  {
   "cell_type": "code",
   "execution_count": 47,
   "metadata": {
    "scrolled": true
   },
   "outputs": [
    {
     "name": "stdout",
     "output_type": "stream",
     "text": [
      "Logistic Regression best parameters with stratified kfold is {'logreg__C': 100.0}\n",
      "Logistic Regression best score with stratified kfold is 0.8049981067777358\n",
      "Linear SVC best parameters with stratified kfold is {'linearSVC__C': 0.01}\n",
      "Linear SVC best score with stratified kfold is 0.8032942067398713\n",
      "Nearest Centroid best parameters with stratified kfold is {'ncentroid__shrink_threshold': 0.0}\n",
      "Nearest Centroid best score with stratified kfold is 0.7404392275653162\n"
     ]
    }
   ],
   "source": [
    "from sklearn.model_selection import GridSearchCV\n",
    "from sklearn.pipeline import Pipeline\n",
    "\n",
    "pipeline_logreg = Pipeline(steps=[('scaling',scaler_pipe), ('preprocess', cat_con_pipe), ('logreg', LogisticRegression())])\n",
    "pipeline_linearSVC = Pipeline(steps=[('scaling',scaler_pipe), ('preprocess', cat_con_pipe), ('linearSVC', LinearSVC())])\n",
    "pipeline_ncentroid = Pipeline(steps=[('scaling',scaler_pipe), ('preprocess', cat_con_pipe), ('ncentroid', NearestCentroid())])\n",
    "\n",
    "paragrid_logreg = {'logreg__C':np.logspace(-3,2,6)}\n",
    "#'logreg__penalty': ['l1', 'l2']\n",
    "paragrid_linearSVC = {'linearSVC__C': np.logspace(-3, 2, 6)}\n",
    "#'linearSVC__gamma': np.logspace(-3, 2, 6) / X_train.shape[0]\n",
    "paragrid_ncentroid = {'ncentroid__shrink_threshold': np.arange(0,1,0.1)}\n",
    "\n",
    "gcv_logreg = GridSearchCV(pipeline_logreg, param_grid=paragrid_logreg, cv=5, return_train_score=True)\n",
    "gcv_logreg.fit(X_train, y_train)\n",
    "print(\"Logistic Regression best parameters with stratified kfold is {}\".format(gcv_logreg.best_params_))\n",
    "print(\"Logistic Regression best score with stratified kfold is {}\".format(gcv_logreg.best_score_))\n",
    "\n",
    "\n",
    "gcv_linearSVC = GridSearchCV(pipeline_linearSVC, param_grid=paragrid_linearSVC, cv=5, return_train_score=True)\n",
    "gcv_linearSVC.fit(X_train, y_train)\n",
    "print(\"Linear SVC best parameters with stratified kfold is {}\".format(gcv_linearSVC.best_params_))\n",
    "print(\"Linear SVC best score with stratified kfold is {}\".format(gcv_linearSVC.best_score_))\n",
    "\n",
    "\n",
    "gcv_ncentroid = GridSearchCV(pipeline_ncentroid, param_grid=paragrid_ncentroid, cv=5, return_train_score=True)\n",
    "gcv_ncentroid.fit(X_train, y_train)\n",
    "print(\"Nearest Centroid best parameters with stratified kfold is {}\".format(gcv_ncentroid.best_params_))\n",
    "print(\"Nearest Centroid best score with stratified kfold is {}\".format(gcv_ncentroid.best_score_))"
   ]
  },
  {
   "cell_type": "markdown",
   "metadata": {},
   "source": [
    "There is a very slight improvement when compared to the earlier models on using gridsearch"
   ]
  },
  {
   "cell_type": "code",
   "execution_count": 48,
   "metadata": {},
   "outputs": [
    {
     "data": {
      "text/plain": [
       "Text(0, 0.5, 'Score')"
      ]
     },
     "execution_count": 48,
     "metadata": {},
     "output_type": "execute_result"
    },
    {
     "data": {
      "image/png": "[encoded data removed]",
      "text/plain": [
       "<Figure size 1512x432 with 3 Axes>"
      ]
     },
     "metadata": {
      "needs_background": "light"
     },
     "output_type": "display_data"
    }
   ],
   "source": [
    "fig, ax = plt.subplots(1,3,figsize = (21,6))\n",
    "logreg_result = pd.DataFrame(gcv_logreg.cv_results_)\n",
    "ax[0].plot(logreg_result['param_logreg__C'], logreg_result['mean_train_score'], label = 'Mean Train Score')\n",
    "ax[0].plot(logreg_result['param_logreg__C'], logreg_result['mean_test_score'], label = 'Mean Validation Score')\n",
    "ax[0].set_xscale('log')\n",
    "ax[0].legend(loc=\"best\")\n",
    "ax[0].set_xlabel('Logistic Regression (C)')\n",
    "ax[0].set_ylabel('Score')\n",
    "\n",
    "linearSVC_result = pd.DataFrame(gcv_linearSVC.cv_results_)\n",
    "ax[1].plot(linearSVC_result['param_linearSVC__C'], linearSVC_result['mean_train_score'], label = 'Mean Train Score')\n",
    "ax[1].plot(linearSVC_result['param_linearSVC__C'], linearSVC_result['mean_test_score'], label = 'Mean Validation Score')\n",
    "ax[1].set_xscale('log')\n",
    "ax[1].legend(loc=\"best\")\n",
    "\n",
    "ax[1].set_xlabel('Linear SVC (C)')\n",
    "ax[1].set_ylabel('Score')\n",
    "\n",
    "ncentroid_result = pd.DataFrame(gcv_ncentroid.cv_results_)\n",
    "ax[2].plot(ncentroid_result['param_ncentroid__shrink_threshold'], ncentroid_result['mean_train_score'], label = 'Mean Train Score')\n",
    "ax[2].plot(ncentroid_result['param_ncentroid__shrink_threshold'], ncentroid_result['mean_test_score'], label = 'Mean Validation Score')\n",
    "ax[2].legend(loc=\"best\")\n",
    "\n",
    "ax[2].set_xlabel('Nearest Centroid (Shrink Threshold)')\n",
    "ax[1].set_ylabel('Score')"
   ]
  },
  {
   "cell_type": "markdown",
   "metadata": {},
   "source": [
    "# 2.4"
   ]
  },
  {
   "cell_type": "code",
   "execution_count": 53,
   "metadata": {},
   "outputs": [
    {
     "name": "stdout",
     "output_type": "stream",
     "text": [
      "Logistic Regression best parameter with kfold is {'logreg__C': 10.0}\n",
      "Logistic Regression best score with kfold is 0.8068913290420295\n",
      "Linear SVC best parameter with kfold is {'linearSVC__C': 0.1}\n",
      "Linear SVC best score with kfold is 0.8059447179098826\n",
      "Nearest Centroid best parameter with kfold is {'ncentroid__shrink_threshold': 0.30000000000000004}\n",
      "Nearest Centroid best score with kfold is 0.7387353275274517\n"
     ]
    }
   ],
   "source": [
    "from sklearn.model_selection import KFold\n",
    "kfold = KFold(n_splits=5, shuffle = True)\n",
    "\n",
    "\n",
    "paragrid_logreg = {'logreg__C':np.logspace(-3,2,6)}\n",
    "#'logreg__penalty': ['l1', 'l2']\n",
    "paragrid_linearSVC = {'linearSVC__C': np.logspace(-3, 2, 6)}\n",
    "#'linearSVC__gamma': np.logspace(-3, 2, 6) / X_train.shape[0]\n",
    "paragrid_ncentroid = {'ncentroid__shrink_threshold': np.arange(0,1,0.1)}\n",
    "\n",
    "gcv_logreg_kfold = GridSearchCV(pipeline_logreg, param_grid=paragrid_logreg, cv=kfold, return_train_score=True)\n",
    "gcv_logreg_kfold.fit(X_train, y_train)\n",
    "print(\"Logistic Regression best parameter with kfold is {}\".format(gcv_logreg_kfold.best_params_))\n",
    "print(\"Logistic Regression best score with kfold is {}\".format(gcv_logreg_kfold.best_score_))\n",
    "\n",
    "\n",
    "gcv_linearSVC_kfold = GridSearchCV(pipeline_linearSVC, param_grid=paragrid_linearSVC, cv=kfold, return_train_score=True)\n",
    "gcv_linearSVC_kfold.fit(X_train, y_train)\n",
    "print(\"Linear SVC best parameter with kfold is {}\".format(gcv_linearSVC_kfold.best_params_))\n",
    "print(\"Linear SVC best score with kfold is {}\".format(gcv_linearSVC_kfold.best_score_))\n",
    "\n",
    "\n",
    "gcv_ncentroid_kfold = GridSearchCV(pipeline_ncentroid, param_grid=paragrid_ncentroid, cv=kfold, return_train_score=True)\n",
    "gcv_ncentroid_kfold.fit(X_train, y_train)\n",
    "print(\"Nearest Centroid best parameter with kfold is {}\".format(gcv_ncentroid_kfold.best_params_))\n",
    "print(\"Nearest Centroid best score with kfold is {}\".format(gcv_ncentroid_kfold.best_score_))\n",
    "\n"
   ]
  },
  {
   "cell_type": "markdown",
   "metadata": {},
   "source": [
    "* C parameter for logistic regression is constant from 100 to 10\n",
    "* C parameter for linear SVC changed from 0.01 to 0.001\n",
    "* C parameter for N Centroid changes from 0.0 to 0.4\n"
   ]
  },
  {
   "cell_type": "code",
   "execution_count": 51,
   "metadata": {},
   "outputs": [
    {
     "name": "stdout",
     "output_type": "stream",
     "text": [
      "Logistic Regression best parameter with shuffle and seed is {'logreg__C': 0.01}\n",
      "Logistic Regression best score with shuffle and seed is 0.8065126845891708\n",
      "Linear SVC best parameter with shuffle and seed is {'linearSVC__C': 0.001}\n",
      "Linear SVC best score with shuffle and seed is 0.8055660734570238\n",
      "Nearest Centroid best parameter with shuffle and seed is {'ncentroid__shrink_threshold': 0.4}\n",
      "Nearest Centroid best score with shuffle and seed is 0.7391139719803105\n"
     ]
    }
   ],
   "source": [
    "kfold = KFold(n_splits=5, shuffle = True,random_state = 1)\n",
    "\n",
    "gcv_logreg_kfold_seed= GridSearchCV(pipeline_logreg, param_grid=paragrid_logreg, cv=kfold, return_train_score=True)\n",
    "gcv_logreg_kfold_seed.fit(X_train, y_train)\n",
    "print(\"Logistic Regression best parameter with shuffle and seed is {}\".format(gcv_logreg_kfold_seed.best_params_))\n",
    "print(\"Logistic Regression best score with shuffle and seed is {}\".format(gcv_logreg_kfold_seed.best_score_))\n",
    "\n",
    "\n",
    "gcv_linearSVC_kfold_seed = GridSearchCV(pipeline_linearSVC, param_grid=paragrid_linearSVC, cv=kfold, return_train_score=True)\n",
    "gcv_linearSVC_kfold_seed.fit(X_train, y_train)\n",
    "print(\"Linear SVC best parameter with shuffle and seed is {}\".format(gcv_linearSVC_kfold_seed.best_params_))\n",
    "print(\"Linear SVC best score with shuffle and seed is {}\".format(gcv_linearSVC_kfold_seed.best_score_))\n",
    "\n",
    "\n",
    "gcv_ncentroid_kfold_seed = GridSearchCV(pipeline_ncentroid, param_grid=paragrid_ncentroid, cv=kfold, return_train_score=True)\n",
    "gcv_ncentroid_kfold_seed.fit(X_train, y_train)\n",
    "print(\"Nearest Centroid best parameter with shuffle and seed is {}\".format(gcv_ncentroid_kfold_seed.best_params_))\n",
    "print(\"Nearest Centroid best score with shuffle and seed is {}\".format(gcv_ncentroid_kfold_seed.best_score_))"
   ]
  },
  {
   "cell_type": "markdown",
   "metadata": {},
   "source": [
    "The below parameters change in comparison to 2.3 Stratified K-fold\n",
    "* C parameter for logistic regression changed from 100 to 0.01\n",
    "* C parameter for linear SVC changed from 0.01 to 0.001\n",
    "* C parameter for N Centroid changed from 0 to 0.4"
   ]
  },
  {
   "cell_type": "code",
   "execution_count": 54,
   "metadata": {
    "scrolled": true
   },
   "outputs": [
    {
     "name": "stdout",
     "output_type": "stream",
     "text": [
      "Logistic Regression best parameter with kfold and train test seed change is {'logreg__C': 0.01}\n",
      "Logistic Regression best score with kfold and train test seed change is 0.8051874290041651\n",
      "Linear SVC best parameter with kfold and train test seed change is {'linearSVC__C': 0.1}\n",
      "Linear SVC best score with kfold and train test seed change is 0.8042408178720182\n",
      "Nearest Centroid best parameter with kfold and train test seed change is {'ncentroid__shrink_threshold': 0.0}\n",
      "Nearest Centroid best score with kfold and train test seed change is 0.738356683074593\n"
     ]
    }
   ],
   "source": [
    "X1_train, X1_test, y1_train, y1_test = train_test_split (telco_data.loc[:, telco_data.columns != 'Churn'],telco_data['Churn'], random_state = 10)\n",
    "X1_train = pd.concat((X1_train[cat_var], X1_train[cont_var]), axis=1)\n",
    "\n",
    "\n",
    "gcv_logreg_kfold_tt = GridSearchCV(pipeline_logreg, param_grid=paragrid_logreg, cv=kfold, return_train_score=True)\n",
    "gcv_logreg_kfold_tt.fit(X1_train, y1_train)\n",
    "print(\"Logistic Regression best parameter with kfold and train test seed change is {}\".format(gcv_logreg_kfold_tt.best_params_))\n",
    "print(\"Logistic Regression best score with kfold and train test seed change is {}\".format(gcv_logreg_kfold_tt.best_score_))\n",
    "\n",
    "\n",
    "gcv_linearSVC_kfold_tt = GridSearchCV(pipeline_linearSVC, param_grid=paragrid_linearSVC, cv=kfold, return_train_score=True)\n",
    "gcv_linearSVC_kfold_tt.fit(X1_train, y1_train)\n",
    "print(\"Linear SVC best parameter with kfold and train test seed change is {}\".format(gcv_linearSVC_kfold_tt.best_params_))\n",
    "print(\"Linear SVC best score with kfold and train test seed change is {}\".format(gcv_linearSVC_kfold_tt.best_score_))\n",
    "\n",
    "\n",
    "gcv_ncentroid_kfold_tt = GridSearchCV(pipeline_ncentroid, param_grid=paragrid_ncentroid, cv=kfold, return_train_score=True)\n",
    "gcv_ncentroid_kfold_tt.fit(X1_train, y1_train)\n",
    "print(\"Nearest Centroid best parameter with kfold and train test seed change is {}\".format(gcv_ncentroid_kfold_tt.best_params_))\n",
    "print(\"Nearest Centroid best score with kfold and train test seed change is {}\".format(gcv_ncentroid_kfold_tt.best_score_))"
   ]
  },
  {
   "cell_type": "markdown",
   "metadata": {},
   "source": [
    "The below parameters change in comparison to 2.3 Stratified K-fold\n",
    "\n",
    "* C parameter for logistic regression changed from 100 to 0.01\n",
    "* C parameter for linear SVC changed from 0.01 to 0.001\n",
    "* C parameter for N Centroid is constant from at 0.0"
   ]
  },
  {
   "cell_type": "markdown",
   "metadata": {},
   "source": [
    "# 2.5"
   ]
  },
  {
   "cell_type": "markdown",
   "metadata": {},
   "source": [
    "#Logistic Regression best score with kfold --> C = 1 and score = 0.8068\n",
    "#Linear SVC best score also with kfold --> c = 10 and score = 0.8059"
   ]
  },
  {
   "cell_type": "code",
   "execution_count": 57,
   "metadata": {},
   "outputs": [],
   "source": [
    "coeff_logreg = gcv_logreg_kfold.best_estimator_.named_steps['logreg'].coef_[0]\n",
    "coeff_linearSVC = gcv_linearSVC_kfold.best_estimator_.named_steps['linearSVC'].coef_[0]"
   ]
  },
  {
   "cell_type": "code",
   "execution_count": 77,
   "metadata": {},
   "outputs": [
    {
     "data": {
      "text/plain": [
       "46"
      ]
     },
     "execution_count": 77,
     "metadata": {},
     "output_type": "execute_result"
    }
   ],
   "source": [
    "len(coeff_logreg)"
   ]
  },
  {
   "cell_type": "code",
   "execution_count": 83,
   "metadata": {},
   "outputs": [
    {
     "data": {
      "text/plain": [
       "Text(0.5, 0, 'Feature Position')"
      ]
     },
     "execution_count": 83,
     "metadata": {},
     "output_type": "execute_result"
    },
    {
     "data": {
      "image/png": "[encoded data removed]",
      "text/plain": [
       "<Figure size 1152x432 with 2 Axes>"
      ]
     },
     "metadata": {
      "needs_background": "light"
     },
     "output_type": "display_data"
    }
   ],
   "source": [
    "fig, ax = plt.subplots(1,2, figsize=(16,6))\n",
    "plt.subplots_adjust(wspace=0.2,hspace=0.60)\n",
    "\n",
    "ax[0].plot(coeff_logreg, 'o', label = \"C = 10.0\", color = 'red')\n",
    "ax[0].set_title ('Co-efficients of Best Performing Logistic Regression (k-fold)')\n",
    "ax[0].set_ylabel ('Co-efficient Value')\n",
    "ax[0].legend()\n",
    "ax[0].set_xlabel ('Feature Position')\n",
    "\n",
    "\n",
    "\n",
    "ax[1].plot(coeff_linearSVC, 'o', label = \"C = 0.1\")\n",
    "ax[1].set_title ('Co-efficients of Best Performing Linear SVC (k-fold)')\n",
    "ax[1].set_ylabel ('Co-efficient Value')\n",
    "ax[1].legend()\n",
    "ax[1].set_xlabel ('Feature Position')\n"
   ]
  }
 ],
 "metadata": {
  "kernelspec": {
   "display_name": "Python 3",
   "language": "python",
   "name": "python3"
  },
  "language_info": {
   "codemirror_mode": {
    "name": "ipython",
    "version": 3
   },
   "file_extension": ".py",
   "mimetype": "text/x-python",
   "name": "python",
   "nbconvert_exporter": "python",
   "pygments_lexer": "ipython3",
   "version": "3.7.1"
  }
 },
 "nbformat": 4,
 "nbformat_minor": 2
}
